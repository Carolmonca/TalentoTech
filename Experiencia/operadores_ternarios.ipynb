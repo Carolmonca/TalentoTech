{
 "cells": [
  {
   "cell_type": "markdown",
   "id": "f53e4717",
   "metadata": {},
   "source": [
    "Solictar un dato por teclado el cual sera almacenado en la variable precio.\n",
    "Validar que ese dato ingresado sea tipo numerico especificamente float (isdigit , con conversión de tipo)\n",
    "validar si el precio esta en uno de los siguientes rangos (con operador ternario)\n",
    " > 10000 -  <= 50000\n",
    "\n",
    " > 50000 - <= 100000\n",
    "\n",
    " > 100000 - <= 200000\n",
    "\n",
    " > 200000\n",
    " \n",
    "Segun el rango imprimir un mensaje informando en que rango esta el valor ingresado.\n",
    "El mensaje del rango en el cual se encuentra debe ser almacenado en la variable mensaje."
   ]
  },
  {
   "cell_type": "code",
   "execution_count": 7,
   "id": "c200d304",
   "metadata": {},
   "outputs": [
    {
     "name": "stdout",
     "output_type": "stream",
     "text": [
      "El precio es mayor a 50,000 y menor o igual a 100,000\n"
     ]
    }
   ],
   "source": [
    "precio = input(\"Ingrese el precio: \")\n",
    "\n",
    "try:\n",
    "    precio = float(precio)\n",
    "    mensaje = ( \n",
    "        \"El precio es mayor a 10,000 y menor o igual a 50,000\" if 10000 < precio <= 50000 else\n",
    "        \"El precio es mayor a 50,000 y menor o igual a 100,000\" if 50000 < precio <= 100000 else\n",
    "        \"El precio es mayor a 100,000 y menor o igual a 200,000\" if 100000 < precio <= 200000 else\n",
    "        \"El precio es mayor a 200,000\" if precio > 200000 else\n",
    "        \"El precio está fuera del rango\" \n",
    "    )\n",
    "except ValueError:\n",
    "    mensaje = \"El dato ingresado no es un número válido\"\n",
    "\n",
    "print(mensaje)"
   ]
  }
 ],
 "metadata": {
  "kernelspec": {
   "display_name": "Python 3",
   "language": "python",
   "name": "python3"
  },
  "language_info": {
   "codemirror_mode": {
    "name": "ipython",
    "version": 3
   },
   "file_extension": ".py",
   "mimetype": "text/x-python",
   "name": "python",
   "nbconvert_exporter": "python",
   "pygments_lexer": "ipython3",
   "version": "3.13.5"
  }
 },
 "nbformat": 4,
 "nbformat_minor": 5
}
