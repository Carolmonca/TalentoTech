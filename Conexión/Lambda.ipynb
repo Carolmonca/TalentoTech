{
 "cells": [
  {
   "cell_type": "markdown",
   "id": "d52f8ebd",
   "metadata": {},
   "source": [
    "FUNCION LAMBDA"
   ]
  },
  {
   "cell_type": "code",
   "execution_count": 2,
   "id": "25d954d0",
   "metadata": {},
   "outputs": [
    {
     "name": "stdout",
     "output_type": "stream",
     "text": [
      "La suma es: 13.0\n",
      "La resta es: 3.0\n",
      "La multiplicación es: 40.0\n",
      "La división es: 1.6\n",
      "La potencia es: 32768.0\n",
      "la raiz 5.0 de 8.0 es: 1.5157165665103982\n",
      "El logaritmo de 8.0 en base 5.0 es: 1.2920296742201791\n"
     ]
    }
   ],
   "source": [
    "# TAREA (terminar siguiendo el ejemplo anterior):\n",
    "import math\n",
    "\n",
    "n1 = float(input(\"Ingresa el 1er numero: \"))\n",
    "n2 = float(input(\"Ingresa el 2do numero: \"))\n",
    "\n",
    "# Suma\n",
    "suma = lambda a, b: a + b\n",
    "resultado = suma(n1, n2)\n",
    "print(f\"La suma es: {resultado}\")\n",
    "# Resta\n",
    "resta = lambda a, b: a - b\n",
    "resultado = resta(n1, n2)\n",
    "print(f\"La resta es: {resultado}\")\n",
    "# Multiplicación\n",
    "multiplicacion = lambda a, b: a * b\n",
    "resultado = multiplicacion(n1, n2)\n",
    "print(f\"La multiplicación es: {resultado}\")\n",
    "# División\n",
    "division = lambda a, b: a / b if b != 0 else \"Error: División por cero\"\n",
    "resultado = division(n1, n2)\n",
    "print(f\"La división es: {resultado}\")\n",
    "# Potenciación\n",
    "potencia = lambda base,exponente: math.pow(base,exponente)# base**exponente\n",
    "resultado = potencia(n1,n2)\n",
    "print(f\"La potencia es: {resultado}\")\n",
    "# Radicación\n",
    "raiz = lambda radicando, indice: math.pow(radicando,(1/indice))\n",
    "resultado = raiz(n1,n2)\n",
    "print(f\"la raiz {n2} de {n1} es: {resultado}\")\n",
    "# Logaritmación\n",
    "logaritmo = lambda argumento,base: math.log(argumento,base)\n",
    "resultado = logaritmo(n1,n2)\n",
    "print(f\"El logaritmo de {n1} en base {n2} es: {resultado}\")"
   ]
  },
  {
   "cell_type": "code",
   "execution_count": 3,
   "id": "76f5555d",
   "metadata": {},
   "outputs": [
    {
     "name": "stdout",
     "output_type": "stream",
     "text": [
      "El seno del angulo 3.0 es: 0.0523359562\n",
      "El coseno del angulo 3.0 es: 0.9986295348\n",
      "La tangente del angulo 3.0 es: 0.0524077793\n"
     ]
    }
   ],
   "source": [
    "# TAREA (terminar siguiendo el ejemplo anterior):\n",
    "import math\n",
    "\n",
    "n1 = float(input(\"Ingresa un ángulo en grados: \"))\n",
    "\n",
    "angulo_radianes = math.radians(n1)\n",
    "\n",
    "# Seno\n",
    "seno = lambda angulo: math.sin(angulo)\n",
    "resultado = seno(angulo_radianes)\n",
    "print(f\"El seno del angulo {n1} es: {round(resultado,10)}\")\n",
    "\n",
    "# Coseno\n",
    "coseno = lambda angulo: math.cos(angulo)\n",
    "resultado= coseno(angulo_radianes)\n",
    "print(f\"El coseno del angulo {n1} es: {round(resultado,10)}\")\n",
    "\n",
    "# Tangente\n",
    "if round(coseno(angulo_radianes),10) == 0:\n",
    "    print(f\"La tangente en {n1} no esta definida\")\n",
    "else:\n",
    "    tangente = lambda angulo: math.tan(angulo)\n",
    "    resultado= tangente(angulo_radianes)\n",
    "    print(f\"La tangente del angulo {n1} es: {round(resultado,10)}\")"
   ]
  },
  {
   "cell_type": "markdown",
   "id": "b1cad7a7",
   "metadata": {},
   "source": []
  }
 ],
 "metadata": {
  "kernelspec": {
   "display_name": "Python 3",
   "language": "python",
   "name": "python3"
  },
  "language_info": {
   "codemirror_mode": {
    "name": "ipython",
    "version": 3
   },
   "file_extension": ".py",
   "mimetype": "text/x-python",
   "name": "python",
   "nbconvert_exporter": "python",
   "pygments_lexer": "ipython3",
   "version": "3.13.5"
  }
 },
 "nbformat": 4,
 "nbformat_minor": 5
}
