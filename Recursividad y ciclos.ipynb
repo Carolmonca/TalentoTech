{
 "cells": [
  {
   "cell_type": "markdown",
   "id": "6c51f006",
   "metadata": {},
   "source": [
    "FIBONACCI CON RECURSIVIDAD"
   ]
  },
  {
   "cell_type": "code",
   "execution_count": 3,
   "id": "892c82fe",
   "metadata": {},
   "outputs": [
    {
     "name": "stdout",
     "output_type": "stream",
     "text": [
      "0\n",
      "1\n",
      "1\n",
      "2\n",
      "3\n",
      "5\n",
      "8\n",
      "13\n",
      "21\n",
      "34\n",
      "55\n",
      "89\n",
      "144\n",
      "233\n",
      "377\n",
      "610\n",
      "987\n",
      "1597\n",
      "2584\n",
      "4181\n",
      "6765\n"
     ]
    }
   ],
   "source": [
    "def F(n): # n debe ser un numero entero positivo incluyendo el cero (numero natural)\n",
    "    if n <= 1:\n",
    "        return n\n",
    "    else:\n",
    "        return F(n - 1) + F(n - 2) # aquí se aplica la recursividad pues dentro del mismo bloque de código llamo a la función\n",
    "\n",
    "for i in range(0,21):\n",
    "    print(F(i))"
   ]
  },
  {
   "cell_type": "markdown",
   "id": "7aba8fd1",
   "metadata": {},
   "source": [
    "FIBONACCI CON CICLO FOR"
   ]
  },
  {
   "cell_type": "code",
   "execution_count": 1,
   "id": "8feb9842",
   "metadata": {},
   "outputs": [
    {
     "name": "stdout",
     "output_type": "stream",
     "text": [
      "0\n",
      "1\n",
      "1\n",
      "2\n",
      "3\n",
      "5\n",
      "8\n",
      "13\n",
      "21\n",
      "34\n",
      "55\n",
      "89\n",
      "144\n",
      "233\n",
      "377\n",
      "610\n",
      "987\n",
      "1597\n",
      "2584\n",
      "4181\n",
      "6765\n"
     ]
    }
   ],
   "source": [
    "num1 = 0\n",
    "num2 = 1\n",
    "\n",
    "print(num1)\n",
    "print(num2)\n",
    "for i in range(2, 21):\n",
    "    num3 = num1 + num2\n",
    "    print(num3)\n",
    "    num1 = num2\n",
    "    num2 = num3"
   ]
  },
  {
   "cell_type": "markdown",
   "id": "906e64d0",
   "metadata": {},
   "source": [
    "FUNCION FACTORIAL CON RECURSIVIDAD "
   ]
  },
  {
   "cell_type": "code",
   "execution_count": null,
   "id": "e4953d6e",
   "metadata": {},
   "outputs": [
    {
     "name": "stdout",
     "output_type": "stream",
     "text": [
      "El factorial de 5 es: 120\n"
     ]
    }
   ],
   "source": [
    "def factorial(n):\n",
    "    if n == 0:\n",
    "        return 1\n",
    "    else:\n",
    "        return n * factorial(n-1)\n",
    "    \n",
    "numero = int(input(\"Ingrese un número para calcular su factorial: \"))\n",
    "resultado = factorial(numero)\n",
    "print(f\"El factorial de {numero} es: {resultado}\")"
   ]
  },
  {
   "cell_type": "markdown",
   "id": "df38d64c",
   "metadata": {},
   "source": [
    "FUNCION FACTORIAL CON FOR"
   ]
  },
  {
   "cell_type": "code",
   "execution_count": 5,
   "id": "0a1f38d6",
   "metadata": {},
   "outputs": [
    {
     "name": "stdout",
     "output_type": "stream",
     "text": [
      "El factorial de 6 es: 720\n"
     ]
    }
   ],
   "source": [
    "def factorial(n):\n",
    "    if n == 0:\n",
    "        return 1\n",
    "    resultado = 1\n",
    "    for i in range(1, n + 1):\n",
    "        resultado *= i\n",
    "    return resultado\n",
    "\n",
    "num = int(input(\"Ingrese un número para calcular su factorial: \"))\n",
    "resultado = factorial(num)\n",
    "print(f\"El factorial de {num} es: {resultado}\")"
   ]
  }
 ],
 "metadata": {
  "kernelspec": {
   "display_name": "Python 3",
   "language": "python",
   "name": "python3"
  },
  "language_info": {
   "codemirror_mode": {
    "name": "ipython",
    "version": 3
   },
   "file_extension": ".py",
   "mimetype": "text/x-python",
   "name": "python",
   "nbconvert_exporter": "python",
   "pygments_lexer": "ipython3",
   "version": "3.13.5"
  }
 },
 "nbformat": 4,
 "nbformat_minor": 5
}
