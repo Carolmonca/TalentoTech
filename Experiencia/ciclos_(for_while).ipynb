{
 "cells": [
  {
   "cell_type": "markdown",
   "id": "9bc07f9c",
   "metadata": {},
   "source": [
    "Calcula la suma de todos los números múltiplos de 3 entre 1 y 100 (inclusive) usando un ciclo for."
   ]
  },
  {
   "cell_type": "code",
   "execution_count": 34,
   "id": "99bc9f13",
   "metadata": {},
   "outputs": [
    {
     "name": "stdout",
     "output_type": "stream",
     "text": [
      "La suma de los multiplos de 3 es 1683\n"
     ]
    }
   ],
   "source": [
    "suma = 0\n",
    "\n",
    "for i in range(1 , 101):\n",
    "    if i % 3 == 0:\n",
    "        suma += i #suma = suma + i\n",
    "    \n",
    "print(f\"La suma de los multiplos de 3 es {suma}\")"
   ]
  },
  {
   "cell_type": "code",
   "execution_count": 1,
   "id": "4d92ef15",
   "metadata": {},
   "outputs": [
    {
     "name": "stdout",
     "output_type": "stream",
     "text": [
      "Su rango inicial no es un número: INTENTELO DE NUEVO\n",
      "La suma de los multiplos de 3 entre 5 y 6 es igual a 6\n"
     ]
    }
   ],
   "source": [
    "#validando que sean números con el metodo isdigit() -- PRIMERA FORMA\n",
    "suma = 0\n",
    "while True:    \n",
    "    rango_inicial = input(\"Digite el rango inicial para el ciclo for: \")\n",
    "    rango_final = input(\"Digite el rango final para el ciclo for: \")\n",
    "\n",
    "    if rango_inicial.isdigit():\n",
    "        if rango_final.isdigit():\n",
    "            rango_inicial = int(rango_inicial)\n",
    "            rango_final = int(rango_final)\n",
    "            if rango_final > rango_inicial:\n",
    "                break\n",
    "            else:\n",
    "                print(\"El rango final debe ser mayor que el rango inicial\")\n",
    "        else:\n",
    "            print(\"Su rango final no es un número: INTENTELO DE NUEVO\")\n",
    "    else:\n",
    "        print(\"Su rango inicial no es un número: INTENTELO DE NUEVO\")\n",
    "\n",
    "for i in range(rango_inicial, rango_final + 1):\n",
    "    if i % 3 == 0:\n",
    "        suma += i\n",
    "\n",
    "print(f\"La suma de los multiplos de 3 entre {rango_inicial} y {rango_final} es igual a {suma}\")"
   ]
  },
  {
   "cell_type": "code",
   "execution_count": null,
   "id": "61a59a8c",
   "metadata": {},
   "outputs": [],
   "source": [
    "#validando que sean enteros a traves de try...except  -- SEGUNDA FORMA\n",
    "suma = 0\n",
    "\n",
    "while True:\n",
    "    try:\n",
    "        rango_inicial = int(input(\"Digite el rango inicial para el ciclo for: \"))\n",
    "        rango_final = int(input(\"Digite el rango final para el ciclo for: \"))\n",
    "       \n",
    "    except Exception as e:\n",
    "        print(f\"Error: {e}\")\n",
    "    else:\n",
    "        if rango_final > rango_inicial:\n",
    "            for i in range(rango_inicial, rango_final + 1):\n",
    "                if i % 3 == 0:\n",
    "                    suma += i\n",
    "            print(f\"La suma de los multiplos de 3 entre {rango_inicial} y {rango_final} es igual a {suma}\")\n",
    "            break\n",
    "        else:\n",
    "             print(\"El rango final debe ser mayor que el rango inicial\")"
   ]
  },
  {
   "cell_type": "markdown",
   "id": "7b1d43da",
   "metadata": {},
   "source": [
    "Pide un número entero positivo al usuario y cuenta cuántos dígitos tiene usando un ciclo while."
   ]
  },
  {
   "cell_type": "code",
   "execution_count": null,
   "id": "c02df99f",
   "metadata": {},
   "outputs": [
    {
     "name": "stdout",
     "output_type": "stream",
     "text": [
      "El número 3 tiene 1 digitos\n"
     ]
    }
   ],
   "source": [
    "numero = int(input(\"Digite un número entero positivo: \"))\n",
    "\n",
    "contador = 0\n",
    "\n",
    "n = numero\n",
    "\n",
    "while n > 0:\n",
    "    n = n//10\n",
    "    contador += 1\n",
    "\n",
    "print(f\"El número {numero} tiene {contador} digitos\")\n",
    "\n"
   ]
  },
  {
   "cell_type": "markdown",
   "id": "85f71fd1",
   "metadata": {},
   "source": [
    "Pide dos números y muestra todos los números impares entre ellos (inclusive) usando for."
   ]
  },
  {
   "cell_type": "code",
   "execution_count": null,
   "id": "59e8d051",
   "metadata": {},
   "outputs": [
    {
     "name": "stdout",
     "output_type": "stream",
     "text": [
      "21 23 25 27 29 31 33 35 37 39 41 43 45 47 49 51 53 55 57 59 61 63 65 67 69 71 73 75 77 79 81 83 85 87 89 91 93 95 97 99 "
     ]
    }
   ],
   "source": [
    "while True:\n",
    "    try:\n",
    "        a = int(input(\"Digite el primer número: \"))\n",
    "        b = int(input(\"Digite el segundo número: \"))\n",
    "    except ValueError:\n",
    "        print(\"Solo debe ingresar numeros. INTENTELO NUEVAMENTE\")\n",
    "    else:\n",
    "        for i in range(min(a , b), max(a , b)):\n",
    "            if i % 2 != 0:\n",
    "                print(i, end=\" \")\n",
    "        break\n",
    "\n",
    "    "
   ]
  },
  {
   "cell_type": "markdown",
   "id": "c5de131c",
   "metadata": {},
   "source": [
    "Recorra una matriz e imprimala como esta declarada"
   ]
  },
  {
   "cell_type": "code",
   "execution_count": null,
   "id": "dec8e8bb",
   "metadata": {},
   "outputs": [
    {
     "name": "stdout",
     "output_type": "stream",
     "text": [
      "\n",
      "2 4 \n",
      "6 8 \n",
      "10 12 14 16 "
     ]
    }
   ],
   "source": [
    "m = [ [2,4], \n",
    "    [6,8], \n",
    "    [10,12,14,16]]\n",
    "\n",
    "for i in range(len(m)): #filas\n",
    "    print(\"\")\n",
    "    for j in range(len(m[i])): #columnas\n",
    "        print(m[i][j], end=\" \")"
   ]
  },
  {
   "cell_type": "markdown",
   "id": "c6d8fb07",
   "metadata": {},
   "source": [
    "Imprimir los primeros 10 números de la serie Fibonacci usando for"
   ]
  },
  {
   "cell_type": "code",
   "execution_count": null,
   "id": "39aeb9e7",
   "metadata": {},
   "outputs": [
    {
     "name": "stdout",
     "output_type": "stream",
     "text": [
      "0 1 1 2 3 5 8 13 21 34 "
     ]
    }
   ],
   "source": [
    "a, b = 0, 1\n",
    "\n",
    "for i in range(10):\n",
    "    print(a, end=\" \")\n",
    "    a, b = b, a + b\n",
    "    "
   ]
  },
  {
   "cell_type": "markdown",
   "id": "d7c6f115",
   "metadata": {},
   "source": [
    "Calcular el factorial de un número usando while"
   ]
  },
  {
   "cell_type": "code",
   "execution_count": null,
   "id": "30a77dca",
   "metadata": {},
   "outputs": [
    {
     "name": "stdout",
     "output_type": "stream",
     "text": [
      "El factorial de 5 es: 120\n"
     ]
    }
   ],
   "source": [
    "numero = 5  \n",
    "factorial = 1\n",
    "contador = 1\n",
    "\n",
    "while contador <= numero:\n",
    "    factorial *= contador\n",
    "    contador += 1\n",
    "\n",
    "print(f\"El factorial de {numero} es: {factorial}\")\n"
   ]
  },
  {
   "cell_type": "markdown",
   "id": "36d98697",
   "metadata": {},
   "source": [
    "Solicita un número y muestra su tabla de multiplicar del 1 al 10 usando un for."
   ]
  },
  {
   "cell_type": "code",
   "execution_count": null,
   "id": "4ddb83b2",
   "metadata": {},
   "outputs": [
    {
     "name": "stdout",
     "output_type": "stream",
     "text": [
      "Multiplicando 5 por 1\n",
      "5 x 1 = 5\n",
      "5 x 2 = 10\n",
      "5 x 3 = 15\n",
      "5 x 4 = 20\n",
      "5 x 5 = 25\n",
      "5 x 6 = 30\n",
      "5 x 7 = 35\n",
      "5 x 8 = 40\n",
      "5 x 9 = 45\n",
      "5 x 10 = 50\n",
      "Multiplicando 5 por 2\n",
      "5 x 1 = 5\n",
      "5 x 2 = 10\n",
      "5 x 3 = 15\n",
      "5 x 4 = 20\n",
      "5 x 5 = 25\n",
      "5 x 6 = 30\n",
      "5 x 7 = 35\n",
      "5 x 8 = 40\n",
      "5 x 9 = 45\n",
      "5 x 10 = 50\n",
      "Multiplicando 5 por 3\n",
      "5 x 1 = 5\n",
      "5 x 2 = 10\n",
      "5 x 3 = 15\n",
      "5 x 4 = 20\n",
      "5 x 5 = 25\n",
      "5 x 6 = 30\n",
      "5 x 7 = 35\n",
      "5 x 8 = 40\n",
      "5 x 9 = 45\n",
      "5 x 10 = 50\n",
      "Multiplicando 5 por 4\n",
      "5 x 1 = 5\n",
      "5 x 2 = 10\n",
      "5 x 3 = 15\n",
      "5 x 4 = 20\n",
      "5 x 5 = 25\n",
      "5 x 6 = 30\n",
      "5 x 7 = 35\n",
      "5 x 8 = 40\n",
      "5 x 9 = 45\n",
      "5 x 10 = 50\n",
      "Multiplicando 5 por 5\n",
      "5 x 1 = 5\n",
      "5 x 2 = 10\n",
      "5 x 3 = 15\n",
      "5 x 4 = 20\n",
      "5 x 5 = 25\n",
      "5 x 6 = 30\n",
      "5 x 7 = 35\n",
      "5 x 8 = 40\n",
      "5 x 9 = 45\n",
      "5 x 10 = 50\n",
      "Multiplicando 5 por 6\n",
      "5 x 1 = 5\n",
      "5 x 2 = 10\n",
      "5 x 3 = 15\n",
      "5 x 4 = 20\n",
      "5 x 5 = 25\n",
      "5 x 6 = 30\n",
      "5 x 7 = 35\n",
      "5 x 8 = 40\n",
      "5 x 9 = 45\n",
      "5 x 10 = 50\n",
      "Multiplicando 5 por 7\n",
      "5 x 1 = 5\n",
      "5 x 2 = 10\n",
      "5 x 3 = 15\n",
      "5 x 4 = 20\n",
      "5 x 5 = 25\n",
      "5 x 6 = 30\n",
      "5 x 7 = 35\n",
      "5 x 8 = 40\n",
      "5 x 9 = 45\n",
      "5 x 10 = 50\n",
      "Multiplicando 5 por 8\n",
      "5 x 1 = 5\n",
      "5 x 2 = 10\n",
      "5 x 3 = 15\n",
      "5 x 4 = 20\n",
      "5 x 5 = 25\n",
      "5 x 6 = 30\n",
      "5 x 7 = 35\n",
      "5 x 8 = 40\n",
      "5 x 9 = 45\n",
      "5 x 10 = 50\n",
      "Multiplicando 5 por 9\n",
      "5 x 1 = 5\n",
      "5 x 2 = 10\n",
      "5 x 3 = 15\n",
      "5 x 4 = 20\n",
      "5 x 5 = 25\n",
      "5 x 6 = 30\n",
      "5 x 7 = 35\n",
      "5 x 8 = 40\n",
      "5 x 9 = 45\n",
      "5 x 10 = 50\n",
      "Multiplicando 5 por 10\n",
      "5 x 1 = 5\n",
      "5 x 2 = 10\n",
      "5 x 3 = 15\n",
      "5 x 4 = 20\n",
      "5 x 5 = 25\n",
      "5 x 6 = 30\n",
      "5 x 7 = 35\n",
      "5 x 8 = 40\n",
      "5 x 9 = 45\n",
      "5 x 10 = 50\n"
     ]
    }
   ],
   "source": [
    "numero = 5\n",
    "for i in range((10)):\n",
    "    print(f\"Multiplicando {numero} por {i + 1}\")\n",
    "    for j in range(10):\n",
    "        print(f\"{numero} x {j + 1} = {numero * (j + 1)}\")"
   ]
  },
  {
   "cell_type": "markdown",
   "id": "affabd50",
   "metadata": {},
   "source": [
    "Dada una lista de números, encuentra el primer número negativo usando un ciclo while."
   ]
  },
  {
   "cell_type": "code",
   "execution_count": null,
   "id": "a15922e3",
   "metadata": {},
   "outputs": [
    {
     "name": "stdout",
     "output_type": "stream",
     "text": [
      "Elemento negativo -3\n"
     ]
    }
   ],
   "source": [
    "listas = [1, 2, -3, 4, 5]\n",
    "for i in range(len(listas)):\n",
    "    if listas[i] < 0:\n",
    "        print(f\"Elemento negativo {listas[i]}\")"
   ]
  },
  {
   "cell_type": "markdown",
   "id": "0df026fa",
   "metadata": {},
   "source": [
    "Recorra una lista de tuplas e imprimala como esta declarada"
   ]
  },
  {
   "cell_type": "code",
   "execution_count": null,
   "id": "a5718e50",
   "metadata": {},
   "outputs": [
    {
     "name": "stdout",
     "output_type": "stream",
     "text": [
      "1 2 3 4 5 "
     ]
    }
   ],
   "source": [
    "tuple = (1, 2, 3, 4, 5)\n",
    "\n",
    "for i in range(len(tuple)):\n",
    "    print(tuple[i], end=\" \")"
   ]
  },
  {
   "cell_type": "markdown",
   "id": "83ae7033",
   "metadata": {},
   "source": [
    "recorra el siguiente diccionario \n",
    "\n",
    "mi_diccionario = {\n",
    "    \"nombre\": \"Alice\",\n",
    "    \"edad\": 30,\n",
    "    \"ciudad\": \"Nueva York\",\n",
    "    \"profesion\": \"Ingeniera\"\n",
    "}"
   ]
  },
  {
   "cell_type": "code",
   "execution_count": 2,
   "id": "4166df8e",
   "metadata": {},
   "outputs": [
    {
     "name": "stdout",
     "output_type": "stream",
     "text": [
      "nombre: Alice\n",
      "edad: 30\n",
      "ciudad: Nueva York\n",
      "profesion: Ingeniera\n"
     ]
    }
   ],
   "source": [
    "mi_diccionario = {\n",
    "    \"nombre\": \"Alice\",\n",
    "    \"edad\": 30,\n",
    "    \"ciudad\": \"Nueva York\",\n",
    "    \"profesion\": \"Ingeniera\"\n",
    "}\n",
    "\n",
    "for clave, valor in mi_diccionario.items():\n",
    "    print(f\"{clave}: {valor}\")\n",
    "\n"
   ]
  },
  {
   "cell_type": "markdown",
   "id": "41ecac19",
   "metadata": {},
   "source": [
    "Averigue el index de cada elemento en la siguiente lista"
   ]
  }
 ],
 "metadata": {
  "kernelspec": {
   "display_name": "Python 3",
   "language": "python",
   "name": "python3"
  },
  "language_info": {
   "codemirror_mode": {
    "name": "ipython",
    "version": 3
   },
   "file_extension": ".py",
   "mimetype": "text/x-python",
   "name": "python",
   "nbconvert_exporter": "python",
   "pygments_lexer": "ipython3",
   "version": "3.13.5"
  }
 },
 "nbformat": 4,
 "nbformat_minor": 5
}
