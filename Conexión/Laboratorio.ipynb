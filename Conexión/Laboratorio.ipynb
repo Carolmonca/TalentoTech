{
 "cells": [
  {
   "cell_type": "markdown",
   "id": "78f8ffc5",
   "metadata": {},
   "source": [
    "Complete los siguientes ejercicios sin ejemplos previos. Puede usar cualquier tipo de ciclo.\n",
    "\n",
    "Solicite al usuario ingresar 5 nombres y guárdelos en una lista.\n",
    "Muestre cuántos nombres comienzan con la letra \"A\"."
   ]
  },
  {
   "cell_type": "code",
   "execution_count": 12,
   "id": "28d41a52",
   "metadata": {},
   "outputs": [
    {
     "name": "stdout",
     "output_type": "stream",
     "text": [
      "Los nombres ingresados son: Andrea, Alexandra, Estefania, Juliana, Ana\n",
      "Nombres que empieza con 'A' o 'a'. Andrea\n",
      "Nombres que empieza con 'A' o 'a'. Alexandra\n",
      "Nombres que empieza con 'A' o 'a'. Ana\n"
     ]
    }
   ],
   "source": [
    "nombres = []\n",
    "for i in range(5):\n",
    "    nombre = input(f\"Ingrese el nombre #{i+1}: \")\n",
    "    nombres.append(nombre)\n",
    "\n",
    "\n",
    "print(f\"Los nombres ingresados son: {nombres[0]}, {nombres[1]}, {nombres[2]}, {nombres[3]}, {nombres[4]}\")\n",
    "\n",
    "for nombre in nombres:\n",
    "    if nombre.lower().startswith(\"a\"):\n",
    "        print(f\"Nombres que empieza con 'A' o 'a'. {nombre}\")\n",
    "\n"
   ]
  },
  {
   "cell_type": "markdown",
   "id": "543f6864",
   "metadata": {},
   "source": [
    "Cree una simulación de llenado de formulario donde se pide la edad y se valida que sea un número entre 18 y 99. Si no es válido, se repite."
   ]
  },
  {
   "cell_type": "code",
   "execution_count": 18,
   "id": "6339cc85",
   "metadata": {},
   "outputs": [
    {
     "name": "stdout",
     "output_type": "stream",
     "text": [
      "Número inválido. Debe ser entre 18 y 99.\n",
      "Número inválido. Debe ser entre 18 y 99.\n",
      "Número válido ingresado: 30\n"
     ]
    }
   ],
   "source": [
    "num = int(input(\"Ingrese un número entre 18 y 99: \"))\n",
    "while num < 18 or num > 99:\n",
    "    print(\"Número inválido. Debe ser entre 18 y 99.\")\n",
    "    num = int(input(\"Ingrese un número entre 18 y 99: \"))\n",
    "print(f\"Número válido ingresado: {num}\")\n",
    "    "
   ]
  }
 ],
 "metadata": {
  "kernelspec": {
   "display_name": "Python 3",
   "language": "python",
   "name": "python3"
  },
  "language_info": {
   "codemirror_mode": {
    "name": "ipython",
    "version": 3
   },
   "file_extension": ".py",
   "mimetype": "text/x-python",
   "name": "python",
   "nbconvert_exporter": "python",
   "pygments_lexer": "ipython3",
   "version": "3.13.5"
  }
 },
 "nbformat": 4,
 "nbformat_minor": 5
}
